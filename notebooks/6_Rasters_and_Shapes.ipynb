{
 "cells": [
  {
   "cell_type": "markdown",
   "id": "23cd5da0",
   "metadata": {},
   "source": [
    "# Rasters and Shapes\n",
    "\n",
    "Data Scource - [Topography](https://www.ngdc.noaa.gov/mgg/global/relief/ETOPO1/data/bedrock/grid_registered/georeferenced_tiff/)\n",
    "\n",
    "Data Scource - [River Basins](https://www.fao.org/fishery/static/geonetwork/d47ba28e-31be-470d-81cf-ad3d5594fafd/data/)\n"
   ]
  },
  {
   "cell_type": "markdown",
   "id": "77ffa6c9",
   "metadata": {},
   "source": [
    "### Exercise\n",
    "\n",
    "- Download the data and place in the resources folder\n",
    "- Use rasterio to open and plot the topography dataset\n",
    "- Use Geopandas to open and plot the river basins dataset"
   ]
  },
  {
   "cell_type": "code",
   "execution_count": null,
   "id": "98af06b8",
   "metadata": {},
   "outputs": [],
   "source": [
    "import rasterio\n",
    "image = "
   ]
  },
  {
   "cell_type": "code",
   "execution_count": null,
   "id": "056ab38c",
   "metadata": {},
   "outputs": [],
   "source": [
    "import geopandas as gpd\n",
    "basins = "
   ]
  },
  {
   "cell_type": "code",
   "execution_count": null,
   "id": "673d9b1d",
   "metadata": {},
   "outputs": [],
   "source": [
    "import pandas as pd\n",
    "\n",
    "colours_i_like = ['#A1CAF1',  '#875692', '#008856',  '#0067A5', '#BE0032',\n",
    "                  '#222222', '#848482', '#F3C300',  'blue', '#F38400',\n",
    "                  '#E68FAC', '#604E97', '#F3C300', '#B3446C', '#C2B280', \n",
    "                  '#F6A600', '#882D17', '#E25822', '#8DB600',\n",
    "                  '#F99379',  '#DCD300', '#F3C300', '#E68FAC', '#C2B280',\n",
    "                  '#222222']\n",
    "\n",
    "colors_df = pd.DataFrame({'basin': basins.MAJ_NAME.unique().tolist(), 'colors': colours_i_like})"
   ]
  },
  {
   "cell_type": "code",
   "execution_count": null,
   "id": "01349362",
   "metadata": {},
   "outputs": [],
   "source": [
    "basins = pd.merge(basins, colors_df, left_on='MAJ_NAME', right_on='basin', how='left')\n",
    "\n",
    "fig, ax = plt.subplots(facecolor='#FCF6F5FF')\n",
    "basins.plot(ax=ax, column='MAJ_NAME', edgecolor='face', color=basins['colors'])\n",
    "ax.axis('off')\n",
    "plt.show()"
   ]
  },
  {
   "cell_type": "code",
   "execution_count": null,
   "id": "55af23a7",
   "metadata": {},
   "outputs": [],
   "source": [
    "from shapely.geometry import mapping\n",
    "from rasterio import mask as msk \n",
    "import numpy as np\n",
    "\n",
    "sa_array, clipped_transform = msk.mask(img, [mapping(geom) for geom in basins.geometry.tolist()], crop=True)\n",
    "sa_array, clipped_transform = msk.mask(img, [mapping(geom) for geom in basins.geometry.tolist()], \n",
    "                                             crop=True, nodata=(np.amin(sa_array[0]) - 1))\n",
    "value_range = np.amax(sa_array) + abs(np.amin(sa_array))"
   ]
  },
  {
   "cell_type": "markdown",
   "id": "cb760fe6",
   "metadata": {},
   "source": [
    "### Exercise\n",
    "\n",
    "- Convert the basin Polygons to LineStrings corresponding to their boundaries.\n",
    "- Create a new GeoDataFrame containing the MAJ_NAME and the basin boundary.\n",
    "- Plot the basin boundaries"
   ]
  },
  {
   "cell_type": "code",
   "execution_count": null,
   "id": "2e55777f",
   "metadata": {},
   "outputs": [],
   "source": [
    "#e.g. gdf['boundary'] = gdf.boundary"
   ]
  },
  {
   "cell_type": "code",
   "execution_count": null,
   "id": "d16031b9",
   "metadata": {},
   "outputs": [],
   "source": [
    "new_basins = "
   ]
  },
  {
   "cell_type": "code",
   "execution_count": null,
   "id": "246e2876",
   "metadata": {},
   "outputs": [],
   "source": [
    "new_basins.plot()"
   ]
  },
  {
   "cell_type": "code",
   "execution_count": null,
   "id": "213b3791",
   "metadata": {},
   "outputs": [],
   "source": [
    "from rasterio.plot import show\n",
    "\n",
    "fig, ax = plt.subplots(facecolor='#FCF6F5FF')\n",
    "fig.set_size_inches(3.5, 7)\n",
    "show(sa_array, ax=ax, transform=clipped_transform, cmap='jet')\n",
    "new_basins.plot(ax=ax, edgecolor='black', lw=1)\n",
    "ax.axis('off')\n",
    "plt.show()"
   ]
  },
  {
   "cell_type": "code",
   "execution_count": null,
   "id": "4fcb2fc1",
   "metadata": {},
   "outputs": [],
   "source": [
    "from matplotlib.colors import LinearSegmentedColormap, ListedColormap, BoundaryNorm\n",
    "from matplotlib import cm\n",
    "\n",
    "our_cmap = cm.get_cmap('jet', int((value_range - 5300) / 10))\n",
    "newcolors = our_cmap(np.linspace(0, 1, int((value_range - 5300) / 10)))\n",
    "background_colour = np.array([0.9882352941176471, 0.9647058823529412, 0.9607843137254902, 1.0])\n",
    "newcolors[:1, :] = background_colour\n",
    "our_cmap = ListedColormap(newcolors)\n",
    "\n",
    "bounds = np.arange(np.amin(sa_array), np.amax(sa_array)-5300, 10)\n",
    "norm = BoundaryNorm(bounds, our_cmap.N)\n",
    "\n",
    "gradient = np.linspace(0, 1, 256)\n",
    "gradient = np.vstack((gradient, gradient))\n",
    "plt.imshow(gradient, aspect='auto', cmap=our_cmap)\n",
    "plt.axis('off')\n",
    "plt.show()"
   ]
  },
  {
   "cell_type": "code",
   "execution_count": null,
   "id": "afc9630b",
   "metadata": {},
   "outputs": [],
   "source": [
    "# Plot the data using the new cmap and norm"
   ]
  },
  {
   "cell_type": "markdown",
   "id": "cda1a384",
   "metadata": {},
   "source": [
    "### Exercise\n",
    "\n",
    "Use another dataset to generate a map for a different continent or country!\n",
    "\n",
    "https://data.apps.fao.org/map/catalog/srv/eng/catalog.search;jsessionid=AAC7809A66394973A2D96B618A2C7A1C?node=srv#/search?resultType=details&sortBy=relevance&fast=index&_content_type=json&from=1&to=50&any=Hydrological%20basin"
   ]
  },
  {
   "cell_type": "code",
   "execution_count": null,
   "id": "38440c25",
   "metadata": {},
   "outputs": [],
   "source": []
  }
 ],
 "metadata": {
  "kernelspec": {
   "display_name": "Python 3 (ipykernel)",
   "language": "python",
   "name": "python3"
  },
  "language_info": {
   "codemirror_mode": {
    "name": "ipython",
    "version": 3
   },
   "file_extension": ".py",
   "mimetype": "text/x-python",
   "name": "python",
   "nbconvert_exporter": "python",
   "pygments_lexer": "ipython3",
   "version": "3.8.13"
  }
 },
 "nbformat": 4,
 "nbformat_minor": 5
}
